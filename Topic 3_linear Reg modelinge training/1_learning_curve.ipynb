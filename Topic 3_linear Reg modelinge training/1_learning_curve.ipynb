{
 "cells": [
  {
   "cell_type": "code",
   "execution_count": 1,
   "metadata": {},
   "outputs": [],
   "source": [
    "import sklearn\n",
    "\n",
    "import numpy as np\n",
    "import matplotlib.pyplot as plt\n",
    "\n"
   ]
  },
  {
   "cell_type": "markdown",
   "metadata": {},
   "source": [
    "# Linear regression"
   ]
  },
  {
   "cell_type": "markdown",
   "metadata": {},
   "source": [
    "## Data"
   ]
  },
  {
   "cell_type": "code",
   "execution_count": 2,
   "metadata": {},
   "outputs": [
    {
     "data": {
      "image/png": "[encoded data removed]",
      "text/plain": [
       "<Figure size 432x288 with 1 Axes>"
      ]
     },
     "metadata": {
      "needs_background": "light"
     },
     "output_type": "display_data"
    }
   ],
   "source": [
    "m = 100 \n",
    "\n",
    "np.random.seed(2024)\n",
    "\n",
    "X = 2 * np.random.rand(m, 1)\n",
    "y = 4 + 3 * X + np.random.randn(m, 1)\n",
    "\n",
    "plt.plot(X, y, 'b.')\n",
    "plt.show()"
   ]
  },
  {
   "cell_type": "markdown",
   "metadata": {},
   "source": [
    "## training and validation sets"
   ]
  },
  {
   "cell_type": "code",
   "execution_count": 3,
   "metadata": {},
   "outputs": [
    {
     "data": {
      "text/plain": [
       "((80, 1), (20, 1))"
      ]
     },
     "execution_count": 3,
     "metadata": {},
     "output_type": "execute_result"
    }
   ],
   "source": [
    "from sklearn.model_selection import train_test_split\n",
    "\n",
    "X_train, X_val, y_train, y_val = train_test_split(X, y, test_size=0.2, random_state=2024)\n",
    "\n",
    "X_train.shape, X_val.shape"
   ]
  },
  {
   "cell_type": "markdown",
   "metadata": {},
   "source": [
    "## Linear Regression model"
   ]
  },
  {
   "cell_type": "code",
   "execution_count": 4,
   "metadata": {},
   "outputs": [
    {
     "data": {
      "text/plain": [
       "LinearRegression()"
      ]
     },
     "execution_count": 4,
     "metadata": {},
     "output_type": "execute_result"
    }
   ],
   "source": [
    "from sklearn.linear_model import LinearRegression\n",
    "\n",
    "lin_reg = LinearRegression()\n",
    "\n",
    "lin_reg.fit(X_train, y_train)\n",
    "\n"
   ]
  },
  {
   "cell_type": "markdown",
   "metadata": {},
   "source": [
    "## training and validation mse"
   ]
  },
  {
   "cell_type": "code",
   "execution_count": 5,
   "metadata": {},
   "outputs": [
    {
     "data": {
      "text/plain": [
       "0.9703078327585434"
      ]
     },
     "execution_count": 5,
     "metadata": {},
     "output_type": "execute_result"
    }
   ],
   "source": [
    "from sklearn.metrics import mean_squared_error\n",
    "\n",
    "train_pred = lin_reg.predict(X_train)\n",
    "train_mse = mean_squared_error(y_train, train_pred)\n",
    "train_mse"
   ]
  },
  {
   "cell_type": "code",
   "execution_count": 6,
   "metadata": {},
   "outputs": [
    {
     "data": {
      "text/plain": [
       "1.25335481606642"
      ]
     },
     "execution_count": 6,
     "metadata": {},
     "output_type": "execute_result"
    }
   ],
   "source": [
    "val_pred = lin_reg.predict(X_val)\n",
    "val_mse = mean_squared_error(y_val, val_pred)\n",
    "val_mse"
   ]
  },
  {
   "cell_type": "markdown",
   "metadata": {},
   "source": [
    "# Polynomial Regression"
   ]
  },
  {
   "cell_type": "markdown",
   "metadata": {},
   "source": [
    "## Data"
   ]
  },
  {
   "cell_type": "code",
   "execution_count": 7,
   "metadata": {},
   "outputs": [
    {
     "data": {
      "image/png": "[encoded data removed]",
      "text/plain": [
       "<Figure size 432x288 with 1 Axes>"
      ]
     },
     "metadata": {
      "needs_background": "light"
     },
     "output_type": "display_data"
    }
   ],
   "source": [
    "np.random.seed(2024)\n",
    "\n",
    "m = 100\n",
    "\n",
    "X = 6 * np.random.rand(m, 1) - 3\n",
    "y = 0.5 * X**2 + X * 2 + np.random.randn(m, 1)\n",
    "\n",
    "plt.plot(X, y, 'b.')\n",
    "plt.show()"
   ]
  },
  {
   "cell_type": "markdown",
   "metadata": {},
   "source": [
    "## Polynomial features"
   ]
  },
  {
   "cell_type": "code",
   "execution_count": 8,
   "metadata": {},
   "outputs": [],
   "source": [
    "from sklearn.preprocessing import PolynomialFeatures\n",
    "\n",
    "poly_features = PolynomialFeatures(degree=3, include_bias=False)\n",
    "\n",
    "X_poly = poly_features.fit_transform(X)\n",
    "\n"
   ]
  },
  {
   "cell_type": "code",
   "execution_count": 9,
   "metadata": {},
   "outputs": [
    {
     "data": {
      "text/plain": [
       "((100, 1), (100, 3))"
      ]
     },
     "execution_count": 9,
     "metadata": {},
     "output_type": "execute_result"
    }
   ],
   "source": [
    "X.shape, X_poly.shape"
   ]
  },
  {
   "cell_type": "code",
   "execution_count": 10,
   "metadata": {},
   "outputs": [
    {
     "data": {
      "text/plain": [
       "(array([[ 0.52808711],\n",
       "        [ 1.19465249],\n",
       "        [-1.87108824],\n",
       "        [-2.73714862],\n",
       "        [-1.76988629]]),\n",
       " array([[  0.52808711,   0.278876  ,   0.14727082],\n",
       "        [  1.19465249,   1.42719456,   1.70500153],\n",
       "        [ -1.87108824,   3.5009712 ,  -6.55062604],\n",
       "        [ -2.73714862,   7.49198255, -20.50666969],\n",
       "        [ -1.76988629,   3.13249746,  -5.5441643 ]]))"
      ]
     },
     "execution_count": 10,
     "metadata": {},
     "output_type": "execute_result"
    }
   ],
   "source": [
    "X[:5, :], X_poly[:5, :]"
   ]
  },
  {
   "cell_type": "markdown",
   "metadata": {},
   "source": [
    "## Learning Curve"
   ]
  },
  {
   "cell_type": "code",
   "execution_count": 12,
   "metadata": {},
   "outputs": [
    {
     "data": {
      "text/plain": [
       "array([[ 0.52808711,  0.278876  ],\n",
       "       [ 1.19465249,  1.42719456],\n",
       "       [-1.87108824,  3.5009712 ],\n",
       "       [-2.73714862,  7.49198255],\n",
       "       [-1.76988629,  3.13249746]])"
      ]
     },
     "execution_count": 12,
     "metadata": {},
     "output_type": "execute_result"
    }
   ],
   "source": [
    "from sklearn.preprocessing import PolynomialFeatures\n",
    "\n",
    "poly_features = PolynomialFeatures(degree=2, include_bias=False)\n",
    "X_poly = poly_features.fit_transform(X)\n",
    "X_poly[:5,:]"
   ]
  },
  {
   "cell_type": "code",
   "execution_count": 15,
   "metadata": {},
   "outputs": [],
   "source": [
    "from sklearn.model_selection import train_test_split\n",
    "X_train, X_val, y_train, y_val = train_test_split(X_poly, y, test_size=0.2)#, random_state=2024)\n",
    "\n",
    "from sklearn.linear_model import LinearRegression\n",
    "\n",
    "model = LinearRegression()\n",
    "\n",
    "train_mses, val_mses = [], []\n",
    "\n",
    "for m in range(1, len(X_train)):\n",
    "    model.fit(X_train[:m], y_train[:m])\n",
    "    \n",
    "    # training mse\n",
    "    y_train_pred = model.predict(X_train[:m])\n",
    "    train_mse = mean_squared_error(y_train[:m], y_train_pred)\n",
    "\n",
    "    # validation mse\n",
    "    y_val_pred = model.predict(X_val)\n",
    "    val_mse = mean_squared_error(y_val, y_val_pred)\n",
    "\n",
    "    train_mses.append(train_mse)\n",
    "    val_mses.append(val_mse)"
   ]
  },
  {
   "cell_type": "code",
   "execution_count": 16,
   "metadata": {},
   "outputs": [
    {
     "data": {
      "image/png": "[encoded data removed]",
      "text/plain": [
       "<Figure size 640x480 with 1 Axes>"
      ]
     },
     "metadata": {},
     "output_type": "display_data"
    }
   ],
   "source": [
    "plt.plot(np.sqrt(train_mses), 'r-+', linewidth=2, label = 'train')\n",
    "plt.plot(np.sqrt(val_mses), 'b-', linewidth = 3, label = 'val')\n",
    "\n",
    "plt.grid()\n",
    "plt.xlabel(\"training set size\")\n",
    "plt.ylabel(\"RMSE\")\n",
    "\n",
    "plt.axis([0,80, 0, 3])\n",
    "plt.legend()\n",
    "\n",
    "plt.show()"
   ]
  },
  {
   "cell_type": "markdown",
   "metadata": {},
   "source": [
    "## Learning curve using sklearn"
   ]
  },
  {
   "cell_type": "code",
   "execution_count": 17,
   "metadata": {},
   "outputs": [
    {
     "data": {
      "image/png": "[encoded data removed]",
      "text/plain": [
       "<Figure size 640x480 with 1 Axes>"
      ]
     },
     "metadata": {},
     "output_type": "display_data"
    }
   ],
   "source": [
    "np.random.seed(2024)\n",
    "\n",
    "m = 100\n",
    "\n",
    "X = 6 * np.random.rand(m, 1) - 3\n",
    "y = 0.5 * X**2 + X * 2 + np.random.randn(m, 1)\n",
    "\n",
    "plt.plot(X, y, 'b.')\n",
    "plt.show()"
   ]
  },
  {
   "cell_type": "code",
   "execution_count": 35,
   "metadata": {},
   "outputs": [
    {
     "name": "stderr",
     "output_type": "stream",
     "text": [
      "/home/codespace/.local/lib/python3.10/site-packages/sklearn/model_selection/_validation.py:2052: RuntimeWarning: Removed duplicate entries from 'train_sizes'. Number of ticks will be less than the size of 'train_sizes': 79 instead of 80.\n",
      "  warnings.warn(\n"
     ]
    },
    {
     "data": {
      "image/png": "[encoded data removed]",
      "text/plain": [
       "<Figure size 640x480 with 1 Axes>"
      ]
     },
     "metadata": {},
     "output_type": "display_data"
    }
   ],
   "source": [
    "from sklearn.model_selection import learning_curve\n",
    "from sklearn.linear_model import LinearRegression\n",
    "from sklearn.preprocessing import PolynomialFeatures\n",
    "\n",
    "from sklearn.pipeline import make_pipeline\n",
    "\n",
    "poly_regression = make_pipeline(\n",
    "    PolynomialFeatures(degree=2, include_bias=False),\n",
    "    LinearRegression()\n",
    ")\n",
    "\n",
    "train_size, train_scores, valid_scores = learning_curve(\n",
    "    poly_regression, X, y, train_sizes=np.linspace(0.01, 1, 80),\n",
    "    cv=5, scoring=\"neg_root_mean_squared_error\"\n",
    ")\n",
    "\n",
    "train_errors = -train_scores.mean(axis=1)\n",
    "valid_errors = -valid_scores.mean(axis=1)\n",
    "\n",
    "plt.plot(train_size, train_errors, \"r-+\", linewidth=2, label=\"train\")\n",
    "plt.plot(train_size, valid_errors, 'b-', linewidth=3, label='valid')\n",
    "\n",
    "plt.axis([0, 80, 0, 2.5])\n",
    "plt.xlabel(\"Train set size\")\n",
    "plt.ylabel(\"RMSE\")\n",
    "plt.legend()\n",
    "plt.grid()\n",
    "plt.show()\n"
   ]
  },
  {
   "cell_type": "code",
   "execution_count": 26,
   "metadata": {},
   "outputs": [
    {
     "data": {
      "text/plain": [
       "array([-0.        , -0.        ,  0.2587588 ,  0.88276972,  0.94983982,\n",
       "        1.25126184,  1.16237779,  1.12770142,  1.07157384,  1.14763118,\n",
       "        1.11028572,  1.06772692,  1.0745509 ,  1.36202263,  1.31995168,\n",
       "        1.31843938,  1.28836771,  1.25514912,  1.28395899,  1.29138947,\n",
       "        1.31799748,  1.40908019,  1.51276513,  1.49189362,  1.52613472,\n",
       "        1.51532777,  1.52728737,  1.52045534,  1.53739881,  1.54350506,\n",
       "        1.62367468,  1.61005754,  1.5918104 ,  1.57828369,  1.57959567,\n",
       "        1.59505297,  1.58564235,  1.59721777,  1.59497039,  1.59427726,\n",
       "        1.59009578,  1.61957897,  1.60850333,  1.5952769 ,  1.6036023 ,\n",
       "        1.63634959,  1.63270235,  1.62269157,  1.63259415,  1.64232915,\n",
       "        1.67410956,  1.66846392,  1.65615714,  1.669225  ,  1.68265614,\n",
       "        1.70093111,  1.69843822,  1.71827593,  1.70428166,  1.70188478,\n",
       "        1.74781332,  1.74347421,  1.74084268,  1.72919043,  1.72450938,\n",
       "        1.72239513,  1.73241143,  1.7204149 ,  1.71055713,  1.70010505,\n",
       "        1.69130824,  1.68744396,  1.6760438 ,  1.67001958,  1.66683489,\n",
       "        1.66116193,  1.65247416,  1.65360278,  1.63568724])"
      ]
     },
     "execution_count": 26,
     "metadata": {},
     "output_type": "execute_result"
    }
   ],
   "source": [
    "train_errors"
   ]
  },
  {
   "cell_type": "code",
   "execution_count": 23,
   "metadata": {},
   "outputs": [
    {
     "data": {
      "text/plain": [
       "array([[-0.        , -0.        , -0.        , -0.        , -0.        ],\n",
       "       [-0.        , -0.        , -0.        , -0.        , -0.        ],\n",
       "       [-0.669597  , -0.15604925, -0.15604925, -0.15604925, -0.15604925],\n",
       "       [-0.58939794, -0.95611267, -0.95611267, -0.95611267, -0.95611267],\n",
       "       [-0.66674917, -1.02061248, -1.02061248, -1.02061248, -1.02061248],\n",
       "       [-0.97851181, -1.31944935, -1.31944935, -1.31944935, -1.31944935],\n",
       "       [-0.9068583 , -1.22625766, -1.22625766, -1.22625766, -1.22625766],\n",
       "       [-1.00641476, -1.15802308, -1.15802308, -1.15802308, -1.15802308],\n",
       "       [-0.98941944, -1.09211244, -1.09211244, -1.09211244, -1.09211244],\n",
       "       [-0.9457751 , -1.1980952 , -1.1980952 , -1.1980952 , -1.1980952 ],\n",
       "       [-0.94468478, -1.15168596, -1.15168596, -1.15168596, -1.15168596],\n",
       "       [-0.92727611, -1.10283963, -1.10283963, -1.10283963, -1.10283963],\n",
       "       [-0.91171733, -1.11525929, -1.11525929, -1.11525929, -1.11525929],\n",
       "       [-0.87856757, -1.48288639, -1.48288639, -1.48288639, -1.48288639],\n",
       "       [-0.85884821, -1.43522755, -1.43522755, -1.43522755, -1.43522755],\n",
       "       [-0.98599554, -1.40155034, -1.40155034, -1.40155034, -1.40155034],\n",
       "       [-0.956572  , -1.37131664, -1.37131664, -1.37131664, -1.37131664],\n",
       "       [-0.93813985, -1.33440144, -1.33440144, -1.33440144, -1.33440144],\n",
       "       [-0.97325132, -1.36163591, -1.36163591, -1.36163591, -1.36163591],\n",
       "       [-0.94917004, -1.37694433, -1.37694433, -1.37694433, -1.37694433],\n",
       "       [-0.99829742, -1.43266323, -1.38634226, -1.38634226, -1.38634226],\n",
       "       [-1.43652986, -1.50412648, -1.3682482 , -1.3682482 , -1.3682482 ],\n",
       "       [-1.41132837, -1.47159044, -1.56030229, -1.56030229, -1.56030229],\n",
       "       [-1.38161771, -1.47496079, -1.53429653, -1.53429653, -1.53429653],\n",
       "       [-1.42111397, -1.62914208, -1.52680585, -1.52680585, -1.52680585],\n",
       "       [-1.41146644, -1.67267827, -1.49749805, -1.49749805, -1.49749805],\n",
       "       [-1.44356338, -1.69586993, -1.49900119, -1.49900119, -1.49900119],\n",
       "       [-1.42200699, -1.70790125, -1.49078948, -1.49078948, -1.49078948],\n",
       "       [-1.45312542, -1.78016867, -1.48456665, -1.48456665, -1.48456665],\n",
       "       [-1.47251188, -1.84083538, -1.46805934, -1.46805934, -1.46805934],\n",
       "       [-1.74571649, -1.92898939, -1.48122251, -1.48122251, -1.48122251],\n",
       "       [-1.75018721, -1.92582944, -1.45809034, -1.45809034, -1.45809034],\n",
       "       [-1.73781701, -1.90986534, -1.43712322, -1.43712322, -1.43712322],\n",
       "       [-1.72163788, -1.9194377 , -1.41678095, -1.41678095, -1.41678095],\n",
       "       [-1.71694027, -1.89540053, -1.42854585, -1.42854585, -1.42854585],\n",
       "       [-1.78879107, -1.90373739, -1.42757879, -1.42757879, -1.42757879],\n",
       "       [-1.77300003, -1.90651149, -1.41623341, -1.41623341, -1.41623341],\n",
       "       [-1.81412227, -1.97818911, -1.39792582, -1.39792582, -1.39792582],\n",
       "       [-1.79072759, -1.95764008, -1.40882809, -1.40882809, -1.40882809],\n",
       "       [-1.7888476 , -1.98087876, -1.40055332, -1.40055332, -1.40055332],\n",
       "       [-1.7678985 , -1.96092105, -1.38403289, -1.41881322, -1.41881322],\n",
       "       [-1.74714692, -1.94099629, -1.36784358, -1.52095403, -1.52095403],\n",
       "       [-1.72947864, -1.92809872, -1.3757191 , -1.50461008, -1.50461008],\n",
       "       [-1.7101144 , -1.91101893, -1.3731618 , -1.49104467, -1.49104467],\n",
       "       [-1.69149336, -1.88967718, -1.35886192, -1.53898952, -1.53898952],\n",
       "       [-1.75686491, -1.90902064, -1.42696979, -1.5444463 , -1.5444463 ],\n",
       "       [-1.74139806, -1.89162951, -1.41235274, -1.55906571, -1.55906571],\n",
       "       [-1.72903443, -1.87476546, -1.39838689, -1.55563553, -1.55563553],\n",
       "       [-1.71595479, -1.86591055, -1.40554957, -1.58777793, -1.58777793],\n",
       "       [-1.7090668 , -1.86456048, -1.40360479, -1.61720683, -1.61720683],\n",
       "       [-1.69223741, -1.84629816, -1.39030854, -1.72085186, -1.72085186],\n",
       "       [-1.67710228, -1.83351284, -1.38808644, -1.72180901, -1.72180901],\n",
       "       [-1.66125542, -1.81693179, -1.37498065, -1.71380891, -1.71380891],\n",
       "       [-1.68836223, -1.83359115, -1.3956017 , -1.71428495, -1.71428495],\n",
       "       [-1.7137216 , -1.86157064, -1.42635731, -1.70581558, -1.70581558],\n",
       "       [-1.7299314 , -1.86929078, -1.43686966, -1.73428186, -1.73428186],\n",
       "       [-1.72921413, -1.85850587, -1.43900064, -1.73273524, -1.73273524],\n",
       "       [-1.73242403, -1.85965587, -1.44129746, -1.77900114, -1.77900114],\n",
       "       [-1.71967371, -1.84392977, -1.42912096, -1.76434194, -1.76434194],\n",
       "       [-1.70700641, -1.8289334 , -1.41716297, -1.77816055, -1.77816055],\n",
       "       [-1.76725671, -1.88736848, -1.48393314, -1.83585718, -1.76465111],\n",
       "       [-1.76583709, -1.88012794, -1.48858703, -1.83170126, -1.75111773],\n",
       "       [-1.75958382, -1.87712531, -1.49686864, -1.82713412, -1.74350149],\n",
       "       [-1.7490348 , -1.86259042, -1.48730682, -1.81422921, -1.73279092],\n",
       "       [-1.74774645, -1.85917784, -1.48483494, -1.81137519, -1.71941246],\n",
       "       [-1.73664635, -1.84848764, -1.47522678, -1.80017031, -1.75144458],\n",
       "       [-1.75937388, -1.85278313, -1.4965452 , -1.81364469, -1.73971024],\n",
       "       [-1.74649673, -1.84035509, -1.48570824, -1.80067091, -1.72884352],\n",
       "       [-1.73652388, -1.82812033, -1.47525027, -1.78929123, -1.72359996],\n",
       "       [-1.724172  , -1.81523997, -1.4647278 , -1.77646463, -1.71992085],\n",
       "       [-1.7154694 , -1.80762193, -1.45775377, -1.76792094, -1.70777517],\n",
       "       [-1.71434424, -1.80379144, -1.45482097, -1.76499514, -1.69926799],\n",
       "       [-1.70302481, -1.79140997, -1.44526977, -1.75291735, -1.6875971 ],\n",
       "       [-1.69204602, -1.77927113, -1.43608722, -1.74126667, -1.70142686],\n",
       "       [-1.68463518, -1.76810737, -1.42930252, -1.73183915, -1.72029023],\n",
       "       [-1.6765824 , -1.75805755, -1.42061544, -1.72253678, -1.72801748],\n",
       "       [-1.66566212, -1.74724369, -1.41325522, -1.71148971, -1.72472003],\n",
       "       [-1.66777533, -1.7475615 , -1.41451995, -1.712247  , -1.72591013],\n",
       "       [-1.65199894, -1.72835723, -1.39891071, -1.69428285, -1.70488649]])"
      ]
     },
     "execution_count": 23,
     "metadata": {},
     "output_type": "execute_result"
    }
   ],
   "source": [
    "train_scores"
   ]
  },
  {
   "cell_type": "code",
   "execution_count": null,
   "metadata": {},
   "outputs": [],
   "source": []
  }
 ],
 "metadata": {
  "kernelspec": {
   "display_name": "Python 3",
   "language": "python",
   "name": "python3"
  },
  "language_info": {
   "codemirror_mode": {
    "name": "ipython",
    "version": 3
   },
   "file_extension": ".py",
   "mimetype": "text/x-python",
   "name": "python",
   "nbconvert_exporter": "python",
   "pygments_lexer": "ipython3",
   "version": "3.9.7"
  }
 },
 "nbformat": 4,
 "nbformat_minor": 2
}
