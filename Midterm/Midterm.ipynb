{
 "cells": [
  {
   "cell_type": "code",
   "execution_count": 1,
   "metadata": {},
   "outputs": [],
   "source": [
    "import sys\n",
    "import os\n",
    "\n",
    "import sklearn\n",
    "\n",
    "import numpy as np\n",
    "import pandas as pd\n",
    "import matplotlib.pyplot as plt\n",
    "from sklearn.model_selection import train_test_split\n",
    "\n",
    "\n",
    "\n",
    "###import packages"
   ]
  },
  {
   "cell_type": "markdown",
   "metadata": {},
   "source": [
    "Question 1"
   ]
  },
  {
   "cell_type": "code",
   "execution_count": 2,
   "metadata": {},
   "outputs": [],
   "source": [
    "data = pd.read_csv(\"data.csv\")\n",
    "\n",
    "x = data.drop(columns=['y'])\n",
    "y = data['y']\n",
    "\n",
    "x_train, x_test, y_train, y_test = train_test_split(x, y, test_size=0.1, random_state=42)\n",
    "\n",
    "\n"
   ]
  },
  {
   "cell_type": "markdown",
   "metadata": {},
   "source": [
    "Question 2"
   ]
  },
  {
   "cell_type": "code",
   "execution_count": null,
   "metadata": {},
   "outputs": [],
   "source": [
    "from sklearn.preprocessing import StandardScaler\n",
    "\n",
    "scalar = StandardScaler()\n",
    "\n",
    "x_train_scaled = scalar.fit_transform(x_train)\n",
    "x_test_scaled = scalar.transform(x_test)\n"
   ]
  },
  {
   "cell_type": "markdown",
   "metadata": {},
   "source": [
    "Question 3"
   ]
  },
  {
   "cell_type": "code",
   "execution_count": null,
   "metadata": {},
   "outputs": [
    {
     "data": {
      "text/plain": [
       "56.281497158966616"
      ]
     },
     "execution_count": 46,
     "metadata": {},
     "output_type": "execute_result"
    }
   ],
   "source": [
    "from sklearn.linear_model import LinearRegression\n",
    "from sklearn.metrics import mean_squared_error\n",
    "\n",
    "\n",
    "model  = LinearRegression()\n",
    "model.fit(x_train_scaled,y_train)\n",
    "\n",
    "\n",
    "pred = model.predict(x_test_scaled)\n",
    "\n",
    "test_mse = mean_squared_error(y_test, pred, squared=False)\n",
    "\n",
    "\n",
    "\n",
    "test_mse\n",
    "\n"
   ]
  },
  {
   "cell_type": "markdown",
   "metadata": {},
   "source": [
    "Question 4"
   ]
  },
  {
   "cell_type": "code",
   "execution_count": null,
   "metadata": {},
   "outputs": [
    {
     "name": "stdout",
     "output_type": "stream",
     "text": [
      "[0, 1]\n",
      "[0, 1, 2]\n",
      "[0, 1, 2, 3, 4]\n",
      "y~X1+X2 : 4411.249748484426\n",
      "y~X1+X2+X3 : 2769.880975887844\n",
      "y~X1+X2+X3+X4+X5 : 2753.254762812797\n"
     ]
    }
   ],
   "source": [
    "from sklearn.model_selection import KFold, cross_val_score\n",
    "from sklearn.preprocessing import StandardScaler\n",
    "scalar = StandardScaler()\n",
    "\n",
    "\n",
    "models = [\n",
    "    [0,1],\n",
    "    [0,1,2],\n",
    "    [0,1,2,3,4]\n",
    "]\n",
    "\n",
    "num_splits = 5\n",
    "split_size = len(x) // num_splits\n",
    "\n",
    "\n",
    "##\n",
    "cv_mses = []\n",
    "\n",
    "x_scaled = scalar.fit_transform(x)\n",
    "\n",
    "for features in models:\n",
    "    print(features)\n",
    "    x_features = x_scaled[:, features]\n",
    "    \n",
    "    cv_scores = cross_val_score(model, x_features, y, cv=5, scoring='neg_mean_squared_error')\n",
    "    \n",
    "    cv_mse = np.mean(-cv_scores)\n",
    "    \n",
    "    cv_mses.append(( cv_mse))\n",
    "\n",
    "print(\"y~X1+X2 :\",cv_mses[0])\n",
    "print(\"y~X1+X2+X3 :\",cv_mses[1])\n",
    "print(\"y~X1+X2+X3+X4+X5 :\",cv_mses[2])\n"
   ]
  },
  {
   "cell_type": "code",
   "execution_count": null,
   "metadata": {},
   "outputs": [
    {
     "name": "stdout",
     "output_type": "stream",
     "text": [
      "Test MSE using the best model: 3118.112286149097\n",
      "The new MSE is not less than the previous one.\n"
     ]
    }
   ],
   "source": [
    "best = [0,1,2,3,4]\n",
    "\n",
    "\n",
    "x_best_scaled = x_scaled[:, best]\n",
    "x_best_train = x_train_scaled[:, best] \n",
    "x_best_test =  x_test_scaled[:, best]\n",
    "\n",
    "model = LinearRegression()\n",
    "\n",
    "model.fit(x_best_scaled, y)\n",
    "\n",
    "\n",
    "pred_best_model = model.predict(x_best_test)\n",
    "\n",
    "test_mse_best_model = mean_squared_error(y_test, pred_best_model)\n",
    "\n",
    "print(\"Test MSE using the best model:\", test_mse_best_model)\n",
    "\n",
    "print(\"The new MSE is not less than the previous one.\")\n"
   ]
  },
  {
   "cell_type": "markdown",
   "metadata": {},
   "source": [
    "Task 2 "
   ]
  },
  {
   "cell_type": "code",
   "execution_count": null,
   "metadata": {},
   "outputs": [
    {
     "name": "stdout",
     "output_type": "stream",
     "text": [
      "{'alpha': 0.001}\n"
     ]
    },
    {
     "name": "stderr",
     "output_type": "stream",
     "text": [
      "c:\\Users\\rishu\\anaconda3\\lib\\site-packages\\sklearn\\linear_model\\_coordinate_descent.py:530: ConvergenceWarning: Objective did not converge. You might want to increase the number of iterations. Duality gap: 21045.864050469187, tolerance: 145.27361264487547\n",
      "  model = cd_fast.enet_coordinate_descent(\n",
      "c:\\Users\\rishu\\anaconda3\\lib\\site-packages\\sklearn\\linear_model\\_coordinate_descent.py:530: ConvergenceWarning: Objective did not converge. You might want to increase the number of iterations. Duality gap: 23907.7860888415, tolerance: 145.51476656529326\n",
      "  model = cd_fast.enet_coordinate_descent(\n",
      "c:\\Users\\rishu\\anaconda3\\lib\\site-packages\\sklearn\\linear_model\\_coordinate_descent.py:530: ConvergenceWarning: Objective did not converge. You might want to increase the number of iterations. Duality gap: 24389.40383709292, tolerance: 146.89126517467432\n",
      "  model = cd_fast.enet_coordinate_descent(\n",
      "c:\\Users\\rishu\\anaconda3\\lib\\site-packages\\sklearn\\linear_model\\_coordinate_descent.py:530: ConvergenceWarning: Objective did not converge. You might want to increase the number of iterations. Duality gap: 18750.691295597528, tolerance: 143.01156253189345\n",
      "  model = cd_fast.enet_coordinate_descent(\n",
      "c:\\Users\\rishu\\anaconda3\\lib\\site-packages\\sklearn\\linear_model\\_coordinate_descent.py:530: ConvergenceWarning: Objective did not converge. You might want to increase the number of iterations. Duality gap: 7925.910676296917, tolerance: 135.7671701434073\n",
      "  model = cd_fast.enet_coordinate_descent(\n",
      "c:\\Users\\rishu\\anaconda3\\lib\\site-packages\\sklearn\\linear_model\\_coordinate_descent.py:530: ConvergenceWarning: Objective did not converge. You might want to increase the number of iterations. Duality gap: 16368.862906270253, tolerance: 145.27361264487547\n",
      "  model = cd_fast.enet_coordinate_descent(\n",
      "c:\\Users\\rishu\\anaconda3\\lib\\site-packages\\sklearn\\linear_model\\_coordinate_descent.py:530: ConvergenceWarning: Objective did not converge. You might want to increase the number of iterations. Duality gap: 19920.02470073331, tolerance: 145.51476656529326\n",
      "  model = cd_fast.enet_coordinate_descent(\n",
      "c:\\Users\\rishu\\anaconda3\\lib\\site-packages\\sklearn\\linear_model\\_coordinate_descent.py:530: ConvergenceWarning: Objective did not converge. You might want to increase the number of iterations. Duality gap: 11752.41158136737, tolerance: 146.89126517467432\n",
      "  model = cd_fast.enet_coordinate_descent(\n",
      "c:\\Users\\rishu\\anaconda3\\lib\\site-packages\\sklearn\\linear_model\\_coordinate_descent.py:530: ConvergenceWarning: Objective did not converge. You might want to increase the number of iterations. Duality gap: 15885.862677959667, tolerance: 143.01156253189345\n",
      "  model = cd_fast.enet_coordinate_descent(\n",
      "c:\\Users\\rishu\\anaconda3\\lib\\site-packages\\sklearn\\linear_model\\_coordinate_descent.py:530: ConvergenceWarning: Objective did not converge. You might want to increase the number of iterations. Duality gap: 6261.869527021947, tolerance: 135.7671701434073\n",
      "  model = cd_fast.enet_coordinate_descent(\n",
      "c:\\Users\\rishu\\anaconda3\\lib\\site-packages\\sklearn\\linear_model\\_coordinate_descent.py:530: ConvergenceWarning: Objective did not converge. You might want to increase the number of iterations. Duality gap: 6553.778675462236, tolerance: 145.27361264487547\n",
      "  model = cd_fast.enet_coordinate_descent(\n",
      "c:\\Users\\rishu\\anaconda3\\lib\\site-packages\\sklearn\\linear_model\\_coordinate_descent.py:530: ConvergenceWarning: Objective did not converge. You might want to increase the number of iterations. Duality gap: 17090.98769001523, tolerance: 145.51476656529326\n",
      "  model = cd_fast.enet_coordinate_descent(\n",
      "c:\\Users\\rishu\\anaconda3\\lib\\site-packages\\sklearn\\linear_model\\_coordinate_descent.py:530: ConvergenceWarning: Objective did not converge. You might want to increase the number of iterations. Duality gap: 7073.335632515547, tolerance: 146.89126517467432\n",
      "  model = cd_fast.enet_coordinate_descent(\n",
      "c:\\Users\\rishu\\anaconda3\\lib\\site-packages\\sklearn\\linear_model\\_coordinate_descent.py:530: ConvergenceWarning: Objective did not converge. You might want to increase the number of iterations. Duality gap: 13859.282944912557, tolerance: 143.01156253189345\n",
      "  model = cd_fast.enet_coordinate_descent(\n",
      "c:\\Users\\rishu\\anaconda3\\lib\\site-packages\\sklearn\\linear_model\\_coordinate_descent.py:530: ConvergenceWarning: Objective did not converge. You might want to increase the number of iterations. Duality gap: 12543.763574459008, tolerance: 135.7671701434073\n",
      "  model = cd_fast.enet_coordinate_descent(\n",
      "c:\\Users\\rishu\\anaconda3\\lib\\site-packages\\sklearn\\linear_model\\_coordinate_descent.py:530: ConvergenceWarning: Objective did not converge. You might want to increase the number of iterations. Duality gap: 6321.914923656965, tolerance: 145.27361264487547\n",
      "  model = cd_fast.enet_coordinate_descent(\n",
      "c:\\Users\\rishu\\anaconda3\\lib\\site-packages\\sklearn\\linear_model\\_coordinate_descent.py:530: ConvergenceWarning: Objective did not converge. You might want to increase the number of iterations. Duality gap: 8256.188236755726, tolerance: 145.51476656529326\n",
      "  model = cd_fast.enet_coordinate_descent(\n",
      "c:\\Users\\rishu\\anaconda3\\lib\\site-packages\\sklearn\\linear_model\\_coordinate_descent.py:530: ConvergenceWarning: Objective did not converge. You might want to increase the number of iterations. Duality gap: 4985.441689774394, tolerance: 146.89126517467432\n",
      "  model = cd_fast.enet_coordinate_descent(\n",
      "c:\\Users\\rishu\\anaconda3\\lib\\site-packages\\sklearn\\linear_model\\_coordinate_descent.py:530: ConvergenceWarning: Objective did not converge. You might want to increase the number of iterations. Duality gap: 13760.59641437605, tolerance: 143.01156253189345\n",
      "  model = cd_fast.enet_coordinate_descent(\n",
      "c:\\Users\\rishu\\anaconda3\\lib\\site-packages\\sklearn\\linear_model\\_coordinate_descent.py:530: ConvergenceWarning: Objective did not converge. You might want to increase the number of iterations. Duality gap: 9089.839654397103, tolerance: 135.7671701434073\n",
      "  model = cd_fast.enet_coordinate_descent(\n",
      "c:\\Users\\rishu\\anaconda3\\lib\\site-packages\\sklearn\\linear_model\\_coordinate_descent.py:530: ConvergenceWarning: Objective did not converge. You might want to increase the number of iterations. Duality gap: 8316.896710697736, tolerance: 145.27361264487547\n",
      "  model = cd_fast.enet_coordinate_descent(\n",
      "c:\\Users\\rishu\\anaconda3\\lib\\site-packages\\sklearn\\linear_model\\_coordinate_descent.py:530: ConvergenceWarning: Objective did not converge. You might want to increase the number of iterations. Duality gap: 4047.476139000675, tolerance: 145.51476656529326\n",
      "  model = cd_fast.enet_coordinate_descent(\n",
      "c:\\Users\\rishu\\anaconda3\\lib\\site-packages\\sklearn\\linear_model\\_coordinate_descent.py:530: ConvergenceWarning: Objective did not converge. You might want to increase the number of iterations. Duality gap: 4547.601325479569, tolerance: 146.89126517467432\n",
      "  model = cd_fast.enet_coordinate_descent(\n",
      "c:\\Users\\rishu\\anaconda3\\lib\\site-packages\\sklearn\\linear_model\\_coordinate_descent.py:530: ConvergenceWarning: Objective did not converge. You might want to increase the number of iterations. Duality gap: 11959.561042305897, tolerance: 143.01156253189345\n",
      "  model = cd_fast.enet_coordinate_descent(\n",
      "c:\\Users\\rishu\\anaconda3\\lib\\site-packages\\sklearn\\linear_model\\_coordinate_descent.py:530: ConvergenceWarning: Objective did not converge. You might want to increase the number of iterations. Duality gap: 6638.523734876071, tolerance: 135.7671701434073\n",
      "  model = cd_fast.enet_coordinate_descent(\n",
      "c:\\Users\\rishu\\anaconda3\\lib\\site-packages\\sklearn\\linear_model\\_coordinate_descent.py:530: ConvergenceWarning: Objective did not converge. You might want to increase the number of iterations. Duality gap: 6121.11714741122, tolerance: 145.27361264487547\n",
      "  model = cd_fast.enet_coordinate_descent(\n",
      "c:\\Users\\rishu\\anaconda3\\lib\\site-packages\\sklearn\\linear_model\\_coordinate_descent.py:530: ConvergenceWarning: Objective did not converge. You might want to increase the number of iterations. Duality gap: 1807.9424514850834, tolerance: 145.51476656529326\n",
      "  model = cd_fast.enet_coordinate_descent(\n",
      "c:\\Users\\rishu\\anaconda3\\lib\\site-packages\\sklearn\\linear_model\\_coordinate_descent.py:530: ConvergenceWarning: Objective did not converge. You might want to increase the number of iterations. Duality gap: 5237.826866241288, tolerance: 146.89126517467432\n",
      "  model = cd_fast.enet_coordinate_descent(\n",
      "c:\\Users\\rishu\\anaconda3\\lib\\site-packages\\sklearn\\linear_model\\_coordinate_descent.py:530: ConvergenceWarning: Objective did not converge. You might want to increase the number of iterations. Duality gap: 10606.9952051625, tolerance: 143.01156253189345\n",
      "  model = cd_fast.enet_coordinate_descent(\n",
      "c:\\Users\\rishu\\anaconda3\\lib\\site-packages\\sklearn\\linear_model\\_coordinate_descent.py:530: ConvergenceWarning: Objective did not converge. You might want to increase the number of iterations. Duality gap: 5521.837519611523, tolerance: 135.7671701434073\n",
      "  model = cd_fast.enet_coordinate_descent(\n",
      "c:\\Users\\rishu\\anaconda3\\lib\\site-packages\\sklearn\\linear_model\\_coordinate_descent.py:530: ConvergenceWarning: Objective did not converge. You might want to increase the number of iterations. Duality gap: 185574.02510506127, tolerance: 145.27361264487547\n",
      "  model = cd_fast.enet_coordinate_descent(\n",
      "c:\\Users\\rishu\\anaconda3\\lib\\site-packages\\sklearn\\linear_model\\_coordinate_descent.py:530: ConvergenceWarning: Objective did not converge. You might want to increase the number of iterations. Duality gap: 202030.27797140216, tolerance: 145.51476656529326\n",
      "  model = cd_fast.enet_coordinate_descent(\n",
      "c:\\Users\\rishu\\anaconda3\\lib\\site-packages\\sklearn\\linear_model\\_coordinate_descent.py:530: ConvergenceWarning: Objective did not converge. You might want to increase the number of iterations. Duality gap: 208981.67480202214, tolerance: 146.89126517467432\n",
      "  model = cd_fast.enet_coordinate_descent(\n",
      "c:\\Users\\rishu\\anaconda3\\lib\\site-packages\\sklearn\\linear_model\\_coordinate_descent.py:530: ConvergenceWarning: Objective did not converge. You might want to increase the number of iterations. Duality gap: 180609.13035841644, tolerance: 143.01156253189345\n",
      "  model = cd_fast.enet_coordinate_descent(\n",
      "c:\\Users\\rishu\\anaconda3\\lib\\site-packages\\sklearn\\linear_model\\_coordinate_descent.py:530: ConvergenceWarning: Objective did not converge. You might want to increase the number of iterations. Duality gap: 201986.75179323854, tolerance: 135.7671701434073\n",
      "  model = cd_fast.enet_coordinate_descent(\n",
      "c:\\Users\\rishu\\anaconda3\\lib\\site-packages\\sklearn\\linear_model\\_coordinate_descent.py:530: ConvergenceWarning: Objective did not converge. You might want to increase the number of iterations. Duality gap: 109293.53062769386, tolerance: 145.27361264487547\n",
      "  model = cd_fast.enet_coordinate_descent(\n",
      "c:\\Users\\rishu\\anaconda3\\lib\\site-packages\\sklearn\\linear_model\\_coordinate_descent.py:530: ConvergenceWarning: Objective did not converge. You might want to increase the number of iterations. Duality gap: 105532.20664957681, tolerance: 145.51476656529326\n",
      "  model = cd_fast.enet_coordinate_descent(\n",
      "c:\\Users\\rishu\\anaconda3\\lib\\site-packages\\sklearn\\linear_model\\_coordinate_descent.py:530: ConvergenceWarning: Objective did not converge. You might want to increase the number of iterations. Duality gap: 112881.70327890107, tolerance: 146.89126517467432\n",
      "  model = cd_fast.enet_coordinate_descent(\n",
      "c:\\Users\\rishu\\anaconda3\\lib\\site-packages\\sklearn\\linear_model\\_coordinate_descent.py:530: ConvergenceWarning: Objective did not converge. You might want to increase the number of iterations. Duality gap: 88915.8190741961, tolerance: 143.01156253189345\n",
      "  model = cd_fast.enet_coordinate_descent(\n",
      "c:\\Users\\rishu\\anaconda3\\lib\\site-packages\\sklearn\\linear_model\\_coordinate_descent.py:530: ConvergenceWarning: Objective did not converge. You might want to increase the number of iterations. Duality gap: 113724.03112583823, tolerance: 135.7671701434073\n",
      "  model = cd_fast.enet_coordinate_descent(\n",
      "c:\\Users\\rishu\\anaconda3\\lib\\site-packages\\sklearn\\linear_model\\_coordinate_descent.py:530: ConvergenceWarning: Objective did not converge. You might want to increase the number of iterations. Duality gap: 252.46301619743463, tolerance: 145.27361264487547\n",
      "  model = cd_fast.enet_coordinate_descent(\n",
      "c:\\Users\\rishu\\anaconda3\\lib\\site-packages\\sklearn\\linear_model\\_coordinate_descent.py:530: ConvergenceWarning: Objective did not converge. You might want to increase the number of iterations. Duality gap: 316.1674354785937, tolerance: 145.51476656529326\n",
      "  model = cd_fast.enet_coordinate_descent(\n",
      "c:\\Users\\rishu\\anaconda3\\lib\\site-packages\\sklearn\\linear_model\\_coordinate_descent.py:530: ConvergenceWarning: Objective did not converge. You might want to increase the number of iterations. Duality gap: 349.9422772038379, tolerance: 146.89126517467432\n",
      "  model = cd_fast.enet_coordinate_descent(\n",
      "c:\\Users\\rishu\\anaconda3\\lib\\site-packages\\sklearn\\linear_model\\_coordinate_descent.py:530: ConvergenceWarning: Objective did not converge. You might want to increase the number of iterations. Duality gap: 302.4096251920564, tolerance: 143.01156253189345\n",
      "  model = cd_fast.enet_coordinate_descent(\n",
      "c:\\Users\\rishu\\anaconda3\\lib\\site-packages\\sklearn\\linear_model\\_coordinate_descent.py:530: ConvergenceWarning: Objective did not converge. You might want to increase the number of iterations. Duality gap: 246305.19890946744, tolerance: 179.308328512007\n",
      "  model = cd_fast.enet_coordinate_descent(\n"
     ]
    }
   ],
   "source": [
    "from sklearn.linear_model import Lasso\n",
    "from sklearn.model_selection import GridSearchCV\n",
    "from sklearn.preprocessing import StandardScaler\n",
    "scalar = StandardScaler()\n",
    "\n",
    "x_fit = scalar.fit_transform(x)\n",
    "\n",
    "\n",
    "params = {'alpha': [0.05,0.06, 0.07, 0.08, 0.09, 0.1, 0.001, 0.01, 1, 10]}\n",
    "\n",
    "\n",
    "\n",
    "gridcv_lasso_model = GridSearchCV(Lasso(), params, cv=5, scoring='neg_mean_squared_error')\n",
    "\n",
    "\n",
    "gridcv_lasso_model.fit(x_fit, y)\n",
    "\n",
    "print(gridcv_lasso_model.best_params_)\n",
    "\n",
    "\n"
   ]
  },
  {
   "cell_type": "code",
   "execution_count": null,
   "metadata": {},
   "outputs": [
    {
     "name": "stdout",
     "output_type": "stream",
     "text": [
      "[-17.50141488 285.30161867 -16.91549104 -99.99819394 -94.56470075\n",
      " -61.59884063 -23.91806507   8.93211563  37.55551304]\n"
     ]
    }
   ],
   "source": [
    "print(gridcv_lasso_model.best_estimator_.coef_)\n",
    "print(\"none of the variables are deleated\")\n",
    "\n"
   ]
  },
  {
   "cell_type": "code",
   "execution_count": null,
   "metadata": {},
   "outputs": [
    {
     "name": "stdout",
     "output_type": "stream",
     "text": [
      "Test MSE using the LASSO model: 3090.138258463255\n"
     ]
    }
   ],
   "source": [
    "pred_lasso = gridcv_lasso_model.predict(x_test_scaled)\n",
    "\n",
    "test_mse_lasso = mean_squared_error(y_test, pred_lasso)\n",
    "\n",
    "print(\"Test MSE using the LASSO model:\", test_mse_lasso)\n"
   ]
  }
 ],
 "metadata": {
  "kernelspec": {
   "display_name": "base",
   "language": "python",
   "name": "python3"
  },
  "language_info": {
   "codemirror_mode": {
    "name": "ipython",
    "version": 3
   },
   "file_extension": ".py",
   "mimetype": "text/x-python",
   "name": "python",
   "nbconvert_exporter": "python",
   "pygments_lexer": "ipython3",
   "version": "3.9.7"
  }
 },
 "nbformat": 4,
 "nbformat_minor": 2
}
